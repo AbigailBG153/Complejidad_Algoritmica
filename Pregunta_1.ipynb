{
  "nbformat": 4,
  "nbformat_minor": 0,
  "metadata": {
    "colab": {
      "provenance": [],
      "authorship_tag": "ABX9TyNyKVCgDGsqLgDvLrVvoTU6",
      "include_colab_link": true
    },
    "kernelspec": {
      "name": "python3",
      "display_name": "Python 3"
    },
    "language_info": {
      "name": "python"
    }
  },
  "cells": [
    {
      "cell_type": "markdown",
      "metadata": {
        "id": "view-in-github",
        "colab_type": "text"
      },
      "source": [
        "<a href=\"https://colab.research.google.com/github/AbigailBG153/Complejidad_Algoritmica/blob/main/Pregunta_1.ipynb\" target=\"_parent\"><img src=\"https://colab.research.google.com/assets/colab-badge.svg\" alt=\"Open In Colab\"/></a>"
      ]
    },
    {
      "cell_type": "markdown",
      "source": [
        "## (a) 6ptos Escribir un algoritmo en Python que implemente el INPUT/OUTPUT anteriormente descrito, considerando la lectura del INPUT como un archivo.txt (no considerar ningun ingreso de datos por consola o de forma manual)."
      ],
      "metadata": {
        "id": "kNvlGG-oQ9h3"
      }
    },
    {
      "cell_type": "code",
      "execution_count": 49,
      "metadata": {
        "colab": {
          "base_uri": "https://localhost:8080/"
        },
        "id": "k7OcL-EuHGZs",
        "outputId": "4608cd45-d01e-4a0c-f2be-d9af01c8b612"
      },
      "outputs": [
        {
          "output_type": "stream",
          "name": "stdout",
          "text": [
            "Overwriting prueba.txt\n"
          ]
        }
      ],
      "source": [
        "%%file prueba.txt\n",
        "3\n",
        "10 110\n",
        "2\n",
        "1 1\n",
        "30 50\n",
        "10 110\n",
        "2\n",
        "1 1\n",
        "50 30\n",
        "1 6\n",
        "2\n",
        "10 3\n",
        "20 4"
      ]
    },
    {
      "cell_type": "code",
      "source": [
        "def leer_alcancias():\n",
        "    archivo = open('prueba.txt', 'r')\n",
        "    casos = int(archivo.readline())\n",
        "    alcancias = []\n",
        "    #condiciones\n",
        "    for _ in range(casos):\n",
        "        E,F = [int(x) for x in archivo.readline().split()]\n",
        "        numero_monedas = int(archivo.readline())\n",
        "        monedas = []\n",
        "        for _ in range(numero_monedas):\n",
        "            P,W = [int(x) for x in archivo.readline().split()]\n",
        "            monedas.append({'valor': P, 'peso': W})\n",
        "        alcancias.append({\n",
        "            'peso de un cerdo vacío': E,\n",
        "            'peso de un cerdo lleno de monedas': F,\n",
        "            'numero de monedas': numero_monedas,\n",
        "            'monedas': monedas\n",
        "        })\n",
        "    archivo.close()\n",
        "    return alcancias\n"
      ],
      "metadata": {
        "id": "0a780qbHHLdM"
      },
      "execution_count": 50,
      "outputs": []
    },
    {
      "cell_type": "code",
      "source": [
        "import math\n",
        "\n",
        "def dinero_minimo_dp(E, F, N, monedas):\n",
        "    # Crear una lista de longitud F+1 inicializada con infinito\n",
        "    minimo_dinero = [math.inf] * (F + 1)\n",
        "    minimo_dinero[0] = 0\n",
        "\n",
        "    for i in range(N):\n",
        "        valor, peso = monedas[i]['valor'], monedas[i]['peso']\n",
        "        for j in range(peso, F - E + 1):\n",
        "            minimo_dinero[j] = min(minimo_dinero[j], minimo_dinero[j - peso] + valor)\n",
        "\n",
        "    if minimo_dinero[F - E] != math.inf:\n",
        "        return minimo_dinero[F - E]\n",
        "    else:\n",
        "        return -1\n",
        "\n",
        "def calcular_minimo_dinero(alcancias):\n",
        "    resultados = []\n",
        "    for alcancia in alcancias:\n",
        "        E, F = alcancia['peso de un cerdo vacío'], alcancia['peso de un cerdo lleno de monedas']\n",
        "        N = alcancia['numero de monedas']\n",
        "        monedas = alcancia['monedas']\n",
        "        minimo_dinero = dinero_minimo_dp(E, F, N, monedas)\n",
        "\n",
        "        if minimo_dinero != -1:\n",
        "            resultados.append(f\"La cantidad mínima de dinero en la alcancía es de {minimo_dinero}.\")\n",
        "        else:\n",
        "            resultados.append(\"Esto es imposible.\")\n",
        "\n",
        "    return resultados\n",
        "\n"
      ],
      "metadata": {
        "id": "ABIvO-1NMyeA"
      },
      "execution_count": 51,
      "outputs": []
    },
    {
      "cell_type": "code",
      "source": [
        "alcancias = leer_alcancias()\n",
        "\n",
        "print (\"RESULTADOS \")\n",
        "resultados = calcular_minimo_dinero(alcancias)\n",
        "for respuesta in resultados:\n",
        "  print(respuesta)\n"
      ],
      "metadata": {
        "colab": {
          "base_uri": "https://localhost:8080/"
        },
        "id": "LZTLqo_YOAlp",
        "outputId": "dd03faba-d1e6-4305-b821-f9fb2f01482d"
      },
      "execution_count": 52,
      "outputs": [
        {
          "output_type": "stream",
          "name": "stdout",
          "text": [
            "RESULTADOS \n",
            "La cantidad mínima de dinero en la alcancía es de 60.\n",
            "La cantidad mínima de dinero en la alcancía es de 100.\n",
            "Esto es imposible.\n"
          ]
        }
      ]
    },
    {
      "cell_type": "markdown",
      "source": [
        "## (b) 1 pto   Sustentar que técnica y/o tipo de algoritmo ha utilizado para implementar la solución."
      ],
      "metadata": {
        "id": "90N3XBOoRdmo"
      }
    },
    {
      "cell_type": "markdown",
      "source": [
        " El algoritmo implementado utiliza programación dinámica para resolver el problema de determinar la cantidad mínima de dinero en la alcancía. Se aplica el enfoque del problema d ela mochila para determinar el valor máximo que se puede obtener con un peso máximo dado. Se utiliza una matriz de tamaño (F - E + 1) para almacenar los valores mínimos de dinero alcanzables para cada peso. El algoritmo recorre las monedas y actualiza los valores mínimos de dinero para cada peso alcanzable. Al final, se verifica si es posible alcanzar el peso exacto (F - E) y se devuelve la cantidad mínima de dinero o \"Esto es imposible\" si no es posible."
      ],
      "metadata": {
        "id": "uGGcflPsRhW8"
      }
    }
  ]
}